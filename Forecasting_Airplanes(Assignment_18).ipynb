{
 "cells": [
  {
   "cell_type": "code",
   "execution_count": 24,
   "id": "5e266d88",
   "metadata": {},
   "outputs": [],
   "source": [
    "#import libraries\n",
    "import pandas as pd\n",
    "import matplotlib.pyplot as plt\n",
    "import seaborn as sns"
   ]
  },
  {
   "cell_type": "code",
   "execution_count": 2,
   "id": "d9841826",
   "metadata": {},
   "outputs": [],
   "source": [
    "#import dataset\n",
    "df=pd.read_excel(\"D:\\\\DATA SCIENCE\\\\ASSIGNMENTS\\\\Forecasting\\\\Airlines+Data.xlsx\")"
   ]
  },
  {
   "cell_type": "code",
   "execution_count": 3,
   "id": "83e8b1a8",
   "metadata": {},
   "outputs": [
    {
     "data": {
      "text/html": [
       "<div>\n",
       "<style scoped>\n",
       "    .dataframe tbody tr th:only-of-type {\n",
       "        vertical-align: middle;\n",
       "    }\n",
       "\n",
       "    .dataframe tbody tr th {\n",
       "        vertical-align: top;\n",
       "    }\n",
       "\n",
       "    .dataframe thead th {\n",
       "        text-align: right;\n",
       "    }\n",
       "</style>\n",
       "<table border=\"1\" class=\"dataframe\">\n",
       "  <thead>\n",
       "    <tr style=\"text-align: right;\">\n",
       "      <th></th>\n",
       "      <th>Month</th>\n",
       "      <th>Passengers</th>\n",
       "    </tr>\n",
       "  </thead>\n",
       "  <tbody>\n",
       "    <tr>\n",
       "      <th>0</th>\n",
       "      <td>1995-01-01</td>\n",
       "      <td>112</td>\n",
       "    </tr>\n",
       "    <tr>\n",
       "      <th>1</th>\n",
       "      <td>1995-02-01</td>\n",
       "      <td>118</td>\n",
       "    </tr>\n",
       "    <tr>\n",
       "      <th>2</th>\n",
       "      <td>1995-03-01</td>\n",
       "      <td>132</td>\n",
       "    </tr>\n",
       "    <tr>\n",
       "      <th>3</th>\n",
       "      <td>1995-04-01</td>\n",
       "      <td>129</td>\n",
       "    </tr>\n",
       "    <tr>\n",
       "      <th>4</th>\n",
       "      <td>1995-05-01</td>\n",
       "      <td>121</td>\n",
       "    </tr>\n",
       "  </tbody>\n",
       "</table>\n",
       "</div>"
      ],
      "text/plain": [
       "       Month  Passengers\n",
       "0 1995-01-01         112\n",
       "1 1995-02-01         118\n",
       "2 1995-03-01         132\n",
       "3 1995-04-01         129\n",
       "4 1995-05-01         121"
      ]
     },
     "execution_count": 3,
     "metadata": {},
     "output_type": "execute_result"
    }
   ],
   "source": [
    "df.head()"
   ]
  },
  {
   "cell_type": "code",
   "execution_count": 4,
   "id": "fba978fa",
   "metadata": {},
   "outputs": [
    {
     "data": {
      "text/plain": [
       "(96, 2)"
      ]
     },
     "execution_count": 4,
     "metadata": {},
     "output_type": "execute_result"
    }
   ],
   "source": [
    "df.shape"
   ]
  },
  {
   "cell_type": "code",
   "execution_count": 16,
   "id": "520b4efa",
   "metadata": {},
   "outputs": [
    {
     "name": "stdout",
     "output_type": "stream",
     "text": [
      "<class 'pandas.core.frame.DataFrame'>\n",
      "RangeIndex: 96 entries, 0 to 95\n",
      "Data columns (total 2 columns):\n",
      " #   Column      Non-Null Count  Dtype         \n",
      "---  ------      --------------  -----         \n",
      " 0   Month       96 non-null     datetime64[ns]\n",
      " 1   Passengers  96 non-null     int64         \n",
      "dtypes: datetime64[ns](1), int64(1)\n",
      "memory usage: 1.6 KB\n"
     ]
    }
   ],
   "source": [
    "df.info()"
   ]
  },
  {
   "cell_type": "code",
   "execution_count": 19,
   "id": "19a092a9",
   "metadata": {},
   "outputs": [
    {
     "data": {
      "text/plain": [
       "array(['1995-01-01T00:00:00.000000000', '1995-02-01T00:00:00.000000000',\n",
       "       '1995-03-01T00:00:00.000000000', '1995-04-01T00:00:00.000000000',\n",
       "       '1995-05-01T00:00:00.000000000', '1995-06-01T00:00:00.000000000',\n",
       "       '1995-07-01T00:00:00.000000000', '1995-08-01T00:00:00.000000000',\n",
       "       '1995-09-01T00:00:00.000000000', '1995-10-01T00:00:00.000000000',\n",
       "       '1995-11-01T00:00:00.000000000', '1995-12-01T00:00:00.000000000',\n",
       "       '1996-01-01T00:00:00.000000000', '1996-02-01T00:00:00.000000000',\n",
       "       '1996-03-01T00:00:00.000000000', '1996-04-01T00:00:00.000000000',\n",
       "       '1996-05-01T00:00:00.000000000', '1996-06-01T00:00:00.000000000',\n",
       "       '1996-07-01T00:00:00.000000000', '1996-08-01T00:00:00.000000000',\n",
       "       '1996-09-01T00:00:00.000000000', '1996-10-01T00:00:00.000000000',\n",
       "       '1996-11-01T00:00:00.000000000', '1996-12-01T00:00:00.000000000',\n",
       "       '1997-01-01T00:00:00.000000000', '1997-02-01T00:00:00.000000000',\n",
       "       '1997-03-01T00:00:00.000000000', '1997-04-01T00:00:00.000000000',\n",
       "       '1997-05-01T00:00:00.000000000', '1997-06-01T00:00:00.000000000',\n",
       "       '1997-07-01T00:00:00.000000000', '1997-08-01T00:00:00.000000000',\n",
       "       '1997-09-01T00:00:00.000000000', '1997-10-01T00:00:00.000000000',\n",
       "       '1997-11-01T00:00:00.000000000', '1997-12-01T00:00:00.000000000',\n",
       "       '1998-01-01T00:00:00.000000000', '1998-02-01T00:00:00.000000000',\n",
       "       '1998-03-01T00:00:00.000000000', '1998-04-01T00:00:00.000000000',\n",
       "       '1998-05-01T00:00:00.000000000', '1998-06-01T00:00:00.000000000',\n",
       "       '1998-07-01T00:00:00.000000000', '1998-08-01T00:00:00.000000000',\n",
       "       '1998-09-01T00:00:00.000000000', '1998-10-01T00:00:00.000000000',\n",
       "       '1998-11-01T00:00:00.000000000', '1998-12-01T00:00:00.000000000',\n",
       "       '1999-01-01T00:00:00.000000000', '1999-02-01T00:00:00.000000000',\n",
       "       '1999-03-01T00:00:00.000000000', '1999-04-01T00:00:00.000000000',\n",
       "       '1999-05-01T00:00:00.000000000', '1999-06-01T00:00:00.000000000',\n",
       "       '1999-07-01T00:00:00.000000000', '1999-08-01T00:00:00.000000000',\n",
       "       '1999-09-01T00:00:00.000000000', '1999-10-01T00:00:00.000000000',\n",
       "       '1999-11-01T00:00:00.000000000', '1999-12-01T00:00:00.000000000',\n",
       "       '2000-01-01T00:00:00.000000000', '2000-02-01T00:00:00.000000000',\n",
       "       '2000-03-01T00:00:00.000000000', '2000-04-01T00:00:00.000000000',\n",
       "       '2000-05-01T00:00:00.000000000', '2000-06-01T00:00:00.000000000',\n",
       "       '2000-07-01T00:00:00.000000000', '2000-08-01T00:00:00.000000000',\n",
       "       '2000-09-01T00:00:00.000000000', '2000-10-01T00:00:00.000000000',\n",
       "       '2000-11-01T00:00:00.000000000', '2000-12-01T00:00:00.000000000',\n",
       "       '2001-01-01T00:00:00.000000000', '2001-02-01T00:00:00.000000000',\n",
       "       '2001-03-01T00:00:00.000000000', '2001-04-01T00:00:00.000000000',\n",
       "       '2001-05-01T00:00:00.000000000', '2001-06-01T00:00:00.000000000',\n",
       "       '2001-07-01T00:00:00.000000000', '2001-08-01T00:00:00.000000000',\n",
       "       '2001-09-01T00:00:00.000000000', '2001-10-01T00:00:00.000000000',\n",
       "       '2001-11-01T00:00:00.000000000', '2001-12-01T00:00:00.000000000',\n",
       "       '2002-01-01T00:00:00.000000000', '2002-02-01T00:00:00.000000000',\n",
       "       '2002-03-01T00:00:00.000000000', '2002-04-01T00:00:00.000000000',\n",
       "       '2002-05-01T00:00:00.000000000', '2002-06-01T00:00:00.000000000',\n",
       "       '2002-07-01T00:00:00.000000000', '2002-08-01T00:00:00.000000000',\n",
       "       '2002-09-01T00:00:00.000000000', '2002-10-01T00:00:00.000000000',\n",
       "       '2002-11-01T00:00:00.000000000', '2002-12-01T00:00:00.000000000'],\n",
       "      dtype='datetime64[ns]')"
      ]
     },
     "execution_count": 19,
     "metadata": {},
     "output_type": "execute_result"
    }
   ],
   "source": [
    "df.Month.unique()"
   ]
  },
  {
   "cell_type": "code",
   "execution_count": 5,
   "id": "18421f42",
   "metadata": {},
   "outputs": [
    {
     "data": {
      "text/html": [
       "<div>\n",
       "<style scoped>\n",
       "    .dataframe tbody tr th:only-of-type {\n",
       "        vertical-align: middle;\n",
       "    }\n",
       "\n",
       "    .dataframe tbody tr th {\n",
       "        vertical-align: top;\n",
       "    }\n",
       "\n",
       "    .dataframe thead th {\n",
       "        text-align: right;\n",
       "    }\n",
       "</style>\n",
       "<table border=\"1\" class=\"dataframe\">\n",
       "  <thead>\n",
       "    <tr style=\"text-align: right;\">\n",
       "      <th></th>\n",
       "      <th>Passengers</th>\n",
       "    </tr>\n",
       "  </thead>\n",
       "  <tbody>\n",
       "    <tr>\n",
       "      <th>count</th>\n",
       "      <td>96.000000</td>\n",
       "    </tr>\n",
       "    <tr>\n",
       "      <th>mean</th>\n",
       "      <td>213.708333</td>\n",
       "    </tr>\n",
       "    <tr>\n",
       "      <th>std</th>\n",
       "      <td>71.918216</td>\n",
       "    </tr>\n",
       "    <tr>\n",
       "      <th>min</th>\n",
       "      <td>104.000000</td>\n",
       "    </tr>\n",
       "    <tr>\n",
       "      <th>25%</th>\n",
       "      <td>156.000000</td>\n",
       "    </tr>\n",
       "    <tr>\n",
       "      <th>50%</th>\n",
       "      <td>200.000000</td>\n",
       "    </tr>\n",
       "    <tr>\n",
       "      <th>75%</th>\n",
       "      <td>264.750000</td>\n",
       "    </tr>\n",
       "    <tr>\n",
       "      <th>max</th>\n",
       "      <td>413.000000</td>\n",
       "    </tr>\n",
       "  </tbody>\n",
       "</table>\n",
       "</div>"
      ],
      "text/plain": [
       "       Passengers\n",
       "count   96.000000\n",
       "mean   213.708333\n",
       "std     71.918216\n",
       "min    104.000000\n",
       "25%    156.000000\n",
       "50%    200.000000\n",
       "75%    264.750000\n",
       "max    413.000000"
      ]
     },
     "execution_count": 5,
     "metadata": {},
     "output_type": "execute_result"
    }
   ],
   "source": [
    "df.describe()"
   ]
  },
  {
   "cell_type": "code",
   "execution_count": 7,
   "id": "d19f5c2e",
   "metadata": {},
   "outputs": [
    {
     "data": {
      "text/plain": [
       "0"
      ]
     },
     "execution_count": 7,
     "metadata": {},
     "output_type": "execute_result"
    }
   ],
   "source": [
    "df.duplicated().sum()"
   ]
  },
  {
   "cell_type": "code",
   "execution_count": 23,
   "id": "56a2b14a",
   "metadata": {},
   "outputs": [
    {
     "name": "stderr",
     "output_type": "stream",
     "text": [
      "C:\\Users\\mansoor ahamed\\anaconda3\\lib\\site-packages\\seaborn\\categorical.py:3714: UserWarning: The `factorplot` function has been renamed to `catplot`. The original name will be removed in a future release. Please update your code. Note that the default `kind` in `factorplot` (`'point'`) has changed `'strip'` in `catplot`.\n",
      "  warnings.warn(msg)\n"
     ]
    },
    {
     "data": {
      "text/plain": [
       "<seaborn.axisgrid.FacetGrid at 0x25790eb3fa0>"
      ]
     },
     "execution_count": 23,
     "metadata": {},
     "output_type": "execute_result"
    },
    {
     "data": {
      "image/png": "[encoded data removed]",
      "text/plain": [
       "<Figure size 360x360 with 1 Axes>"
      ]
     },
     "metadata": {
      "needs_background": "light"
     },
     "output_type": "display_data"
    }
   ],
   "source": [
    "# Boxplot\n",
    "sns.factorplot(x=\"Month\",y=\"Passengers\",data=df)"
   ]
  },
  {
   "cell_type": "code",
   "execution_count": null,
   "id": "b8afac6f",
   "metadata": {},
   "outputs": [],
   "source": [
    "plt.figure(figsize=(12,3))\n",
    "sns.lineplot(x=\"Year\",y=\"Passengers\",data=airline)"
   ]
  },
  {
   "cell_type": "code",
   "execution_count": 9,
   "id": "64db9898",
   "metadata": {},
   "outputs": [
    {
     "data": {
      "text/html": [
       "<div>\n",
       "<style scoped>\n",
       "    .dataframe tbody tr th:only-of-type {\n",
       "        vertical-align: middle;\n",
       "    }\n",
       "\n",
       "    .dataframe tbody tr th {\n",
       "        vertical-align: top;\n",
       "    }\n",
       "\n",
       "    .dataframe thead th {\n",
       "        text-align: right;\n",
       "    }\n",
       "</style>\n",
       "<table border=\"1\" class=\"dataframe\">\n",
       "  <thead>\n",
       "    <tr style=\"text-align: right;\">\n",
       "      <th></th>\n",
       "      <th>Month</th>\n",
       "      <th>Passengers</th>\n",
       "    </tr>\n",
       "  </thead>\n",
       "  <tbody>\n",
       "    <tr>\n",
       "      <th>0</th>\n",
       "      <td>False</td>\n",
       "      <td>False</td>\n",
       "    </tr>\n",
       "    <tr>\n",
       "      <th>1</th>\n",
       "      <td>False</td>\n",
       "      <td>False</td>\n",
       "    </tr>\n",
       "    <tr>\n",
       "      <th>2</th>\n",
       "      <td>False</td>\n",
       "      <td>False</td>\n",
       "    </tr>\n",
       "    <tr>\n",
       "      <th>3</th>\n",
       "      <td>False</td>\n",
       "      <td>False</td>\n",
       "    </tr>\n",
       "    <tr>\n",
       "      <th>4</th>\n",
       "      <td>False</td>\n",
       "      <td>False</td>\n",
       "    </tr>\n",
       "    <tr>\n",
       "      <th>...</th>\n",
       "      <td>...</td>\n",
       "      <td>...</td>\n",
       "    </tr>\n",
       "    <tr>\n",
       "      <th>91</th>\n",
       "      <td>False</td>\n",
       "      <td>False</td>\n",
       "    </tr>\n",
       "    <tr>\n",
       "      <th>92</th>\n",
       "      <td>False</td>\n",
       "      <td>False</td>\n",
       "    </tr>\n",
       "    <tr>\n",
       "      <th>93</th>\n",
       "      <td>False</td>\n",
       "      <td>False</td>\n",
       "    </tr>\n",
       "    <tr>\n",
       "      <th>94</th>\n",
       "      <td>False</td>\n",
       "      <td>False</td>\n",
       "    </tr>\n",
       "    <tr>\n",
       "      <th>95</th>\n",
       "      <td>False</td>\n",
       "      <td>False</td>\n",
       "    </tr>\n",
       "  </tbody>\n",
       "</table>\n",
       "<p>96 rows × 2 columns</p>\n",
       "</div>"
      ],
      "text/plain": [
       "    Month  Passengers\n",
       "0   False       False\n",
       "1   False       False\n",
       "2   False       False\n",
       "3   False       False\n",
       "4   False       False\n",
       "..    ...         ...\n",
       "91  False       False\n",
       "92  False       False\n",
       "93  False       False\n",
       "94  False       False\n",
       "95  False       False\n",
       "\n",
       "[96 rows x 2 columns]"
      ]
     },
     "execution_count": 9,
     "metadata": {},
     "output_type": "execute_result"
    }
   ],
   "source": [
    "df.isnull()"
   ]
  },
  {
   "cell_type": "code",
   "execution_count": 10,
   "id": "b9ee8beb",
   "metadata": {},
   "outputs": [
    {
     "data": {
      "text/plain": [
       "Month         0\n",
       "Passengers    0\n",
       "dtype: int64"
      ]
     },
     "execution_count": 10,
     "metadata": {},
     "output_type": "execute_result"
    }
   ],
   "source": [
    "df.isnull().sum()"
   ]
  },
  {
   "cell_type": "code",
   "execution_count": 8,
   "id": "c304e165",
   "metadata": {},
   "outputs": [
    {
     "data": {
      "text/plain": [
       "[<matplotlib.lines.Line2D at 0x21ae0b98ee0>]"
      ]
     },
     "execution_count": 8,
     "metadata": {},
     "output_type": "execute_result"
    },
    {
     "data": {
      "image/png": "[encoded data removed]",
      "text/plain": [
       "<Figure size 432x288 with 1 Axes>"
      ]
     },
     "metadata": {
      "needs_background": "light"
     },
     "output_type": "display_data"
    }
   ],
   "source": [
    "plt.plot(df.iloc[:,1])"
   ]
  },
  {
   "cell_type": "markdown",
   "id": "cdc68d76",
   "metadata": {},
   "source": [
    "# Scaling\n",
    "LSTMs are sensitive to the scale of the input data, specifically when the sigmoid (default) or tanh activation functions are used. It can be a good practice to rescale the data to the range of 0-to-1, also called normalizing. We can easily normalize the dataset using the MinMaxScaler preprocessing class from the scikit-learn library."
   ]
  },
  {
   "cell_type": "code",
   "execution_count": 9,
   "id": "40205cf4",
   "metadata": {},
   "outputs": [],
   "source": [
    "from sklearn.preprocessing import MinMaxScaler"
   ]
  },
  {
   "cell_type": "code",
   "execution_count": 10,
   "id": "0fbcf944",
   "metadata": {},
   "outputs": [
    {
     "data": {
      "text/plain": [
       "0     112\n",
       "1     118\n",
       "2     132\n",
       "3     129\n",
       "4     121\n",
       "     ... \n",
       "91    405\n",
       "92    355\n",
       "93    306\n",
       "94    271\n",
       "95    306\n",
       "Name: Passengers, Length: 96, dtype: int64"
      ]
     },
     "execution_count": 10,
     "metadata": {},
     "output_type": "execute_result"
    }
   ],
   "source": [
    "df.iloc[:,1]"
   ]
  },
  {
   "cell_type": "code",
   "execution_count": 11,
   "id": "d8c41197",
   "metadata": {},
   "outputs": [],
   "source": [
    "scaler=MinMaxScaler(feature_range=(0,1))\n",
    "df=scaler.fit_transform(df.iloc[:,1:])"
   ]
  },
  {
   "cell_type": "code",
   "execution_count": 12,
   "id": "b8b69885",
   "metadata": {},
   "outputs": [
    {
     "data": {
      "text/plain": [
       "(96, 1)"
      ]
     },
     "execution_count": 12,
     "metadata": {},
     "output_type": "execute_result"
    }
   ],
   "source": [
    "df.shape"
   ]
  },
  {
   "cell_type": "code",
   "execution_count": 13,
   "id": "e1d320a2",
   "metadata": {},
   "outputs": [
    {
     "data": {
      "text/plain": [
       "array([[0.02588997],\n",
       "       [0.04530744],\n",
       "       [0.09061489],\n",
       "       [0.08090615],\n",
       "       [0.05501618],\n",
       "       [0.10032362],\n",
       "       [0.14239482],\n",
       "       [0.14239482],\n",
       "       [0.10355987],\n",
       "       [0.04854369],\n",
       "       [0.        ],\n",
       "       [0.04530744],\n",
       "       [0.03559871],\n",
       "       [0.07119741],\n",
       "       [0.1197411 ],\n",
       "       [0.10032362],\n",
       "       [0.06796117],\n",
       "       [0.14563107],\n",
       "       [0.21359223],\n",
       "       [0.21359223],\n",
       "       [0.17475728],\n",
       "       [0.09385113],\n",
       "       [0.03236246],\n",
       "       [0.11650485],\n",
       "       [0.13268608],\n",
       "       [0.14886731],\n",
       "       [0.2394822 ],\n",
       "       [0.19093851],\n",
       "       [0.22006472],\n",
       "       [0.2394822 ],\n",
       "       [0.30744337],\n",
       "       [0.30744337],\n",
       "       [0.25889968],\n",
       "       [0.18770227],\n",
       "       [0.13592233],\n",
       "       [0.20064725],\n",
       "       [0.21682848],\n",
       "       [0.24595469],\n",
       "       [0.28802589],\n",
       "       [0.24919094],\n",
       "       [0.25566343],\n",
       "       [0.36893204],\n",
       "       [0.40776699],\n",
       "       [0.44660194],\n",
       "       [0.33980583],\n",
       "       [0.2815534 ],\n",
       "       [0.22006472],\n",
       "       [0.29126214],\n",
       "       [0.29773463],\n",
       "       [0.29773463],\n",
       "       [0.42718447],\n",
       "       [0.42394822],\n",
       "       [0.40453074],\n",
       "       [0.44983819],\n",
       "       [0.51779935],\n",
       "       [0.54368932],\n",
       "       [0.43042071],\n",
       "       [0.34627832],\n",
       "       [0.24595469],\n",
       "       [0.31391586],\n",
       "       [0.3236246 ],\n",
       "       [0.27184466],\n",
       "       [0.42394822],\n",
       "       [0.39805825],\n",
       "       [0.42071197],\n",
       "       [0.51779935],\n",
       "       [0.6407767 ],\n",
       "       [0.61165049],\n",
       "       [0.50161812],\n",
       "       [0.40453074],\n",
       "       [0.32038835],\n",
       "       [0.40453074],\n",
       "       [0.44660194],\n",
       "       [0.41747573],\n",
       "       [0.52750809],\n",
       "       [0.53398058],\n",
       "       [0.53721683],\n",
       "       [0.6828479 ],\n",
       "       [0.84142395],\n",
       "       [0.78640777],\n",
       "       [0.67313916],\n",
       "       [0.55016181],\n",
       "       [0.43042071],\n",
       "       [0.5631068 ],\n",
       "       [0.58252427],\n",
       "       [0.55987055],\n",
       "       [0.68932039],\n",
       "       [0.6763754 ],\n",
       "       [0.69255663],\n",
       "       [0.87378641],\n",
       "       [1.        ],\n",
       "       [0.97411003],\n",
       "       [0.81229773],\n",
       "       [0.65372168],\n",
       "       [0.54045307],\n",
       "       [0.65372168]])"
      ]
     },
     "execution_count": 13,
     "metadata": {},
     "output_type": "execute_result"
    }
   ],
   "source": [
    "df"
   ]
  },
  {
   "cell_type": "code",
   "execution_count": 14,
   "id": "9df71733",
   "metadata": {},
   "outputs": [],
   "source": [
    "#splitting dataset into train and test split\n",
    "training_size=int(len(df)*0.65)"
   ]
  },
  {
   "cell_type": "code",
   "execution_count": 15,
   "id": "032aca29",
   "metadata": {},
   "outputs": [
    {
     "data": {
      "text/plain": [
       "62"
      ]
     },
     "execution_count": 15,
     "metadata": {},
     "output_type": "execute_result"
    }
   ],
   "source": [
    "training_size"
   ]
  },
  {
   "cell_type": "code",
   "execution_count": 16,
   "id": "549ab3d1",
   "metadata": {},
   "outputs": [],
   "source": [
    "test_size=len(df)-training_size"
   ]
  },
  {
   "cell_type": "code",
   "execution_count": 17,
   "id": "a74c8be5",
   "metadata": {},
   "outputs": [
    {
     "data": {
      "text/plain": [
       "34"
      ]
     },
     "execution_count": 17,
     "metadata": {},
     "output_type": "execute_result"
    }
   ],
   "source": [
    "test_size"
   ]
  },
  {
   "cell_type": "code",
   "execution_count": 18,
   "id": "bbacb4f3",
   "metadata": {},
   "outputs": [],
   "source": [
    "train_data,test_data=df[0:training_size,:],df[training_size:len(df),:1]"
   ]
  },
  {
   "cell_type": "code",
   "execution_count": 19,
   "id": "18342c4c",
   "metadata": {},
   "outputs": [
    {
     "data": {
      "text/plain": [
       "array([[0.02588997],\n",
       "       [0.04530744],\n",
       "       [0.09061489],\n",
       "       [0.08090615],\n",
       "       [0.05501618],\n",
       "       [0.10032362],\n",
       "       [0.14239482],\n",
       "       [0.14239482],\n",
       "       [0.10355987],\n",
       "       [0.04854369],\n",
       "       [0.        ],\n",
       "       [0.04530744],\n",
       "       [0.03559871],\n",
       "       [0.07119741],\n",
       "       [0.1197411 ],\n",
       "       [0.10032362],\n",
       "       [0.06796117],\n",
       "       [0.14563107],\n",
       "       [0.21359223],\n",
       "       [0.21359223],\n",
       "       [0.17475728],\n",
       "       [0.09385113],\n",
       "       [0.03236246],\n",
       "       [0.11650485],\n",
       "       [0.13268608],\n",
       "       [0.14886731],\n",
       "       [0.2394822 ],\n",
       "       [0.19093851],\n",
       "       [0.22006472],\n",
       "       [0.2394822 ],\n",
       "       [0.30744337],\n",
       "       [0.30744337],\n",
       "       [0.25889968],\n",
       "       [0.18770227],\n",
       "       [0.13592233],\n",
       "       [0.20064725],\n",
       "       [0.21682848],\n",
       "       [0.24595469],\n",
       "       [0.28802589],\n",
       "       [0.24919094],\n",
       "       [0.25566343],\n",
       "       [0.36893204],\n",
       "       [0.40776699],\n",
       "       [0.44660194],\n",
       "       [0.33980583],\n",
       "       [0.2815534 ],\n",
       "       [0.22006472],\n",
       "       [0.29126214],\n",
       "       [0.29773463],\n",
       "       [0.29773463],\n",
       "       [0.42718447],\n",
       "       [0.42394822],\n",
       "       [0.40453074],\n",
       "       [0.44983819],\n",
       "       [0.51779935],\n",
       "       [0.54368932],\n",
       "       [0.43042071],\n",
       "       [0.34627832],\n",
       "       [0.24595469],\n",
       "       [0.31391586],\n",
       "       [0.3236246 ],\n",
       "       [0.27184466]])"
      ]
     },
     "execution_count": 19,
     "metadata": {},
     "output_type": "execute_result"
    }
   ],
   "source": [
    "train_data"
   ]
  },
  {
   "cell_type": "code",
   "execution_count": 20,
   "id": "2ab22eea",
   "metadata": {},
   "outputs": [
    {
     "data": {
      "text/plain": [
       "array([[0.42394822],\n",
       "       [0.39805825],\n",
       "       [0.42071197],\n",
       "       [0.51779935],\n",
       "       [0.6407767 ],\n",
       "       [0.61165049],\n",
       "       [0.50161812],\n",
       "       [0.40453074],\n",
       "       [0.32038835],\n",
       "       [0.40453074],\n",
       "       [0.44660194],\n",
       "       [0.41747573],\n",
       "       [0.52750809],\n",
       "       [0.53398058],\n",
       "       [0.53721683],\n",
       "       [0.6828479 ],\n",
       "       [0.84142395],\n",
       "       [0.78640777],\n",
       "       [0.67313916],\n",
       "       [0.55016181],\n",
       "       [0.43042071],\n",
       "       [0.5631068 ],\n",
       "       [0.58252427],\n",
       "       [0.55987055],\n",
       "       [0.68932039],\n",
       "       [0.6763754 ],\n",
       "       [0.69255663],\n",
       "       [0.87378641],\n",
       "       [1.        ],\n",
       "       [0.97411003],\n",
       "       [0.81229773],\n",
       "       [0.65372168],\n",
       "       [0.54045307],\n",
       "       [0.65372168]])"
      ]
     },
     "execution_count": 20,
     "metadata": {},
     "output_type": "execute_result"
    }
   ],
   "source": [
    "test_data"
   ]
  },
  {
   "cell_type": "code",
   "execution_count": 21,
   "id": "a6e9ba0e",
   "metadata": {},
   "outputs": [],
   "source": [
    "import numpy as np\n",
    "# convert an array of values into a dataset matrix\n",
    "def create_dataset(dataset, time_step=1):\n",
    "\tdataX, dataY = [], []\n",
    "\tfor i in range(len(dataset)-time_step-1):\n",
    "\t\ta = dataset[i:(i+time_step), 0]   ###i=0, 0,1,2,3\n",
    "\t\tdataX.append(a)\n",
    "\t\tdataY.append(dataset[i + time_step, 0])\n",
    "\treturn np.array(dataX), np.array(dataY)"
   ]
  },
  {
   "cell_type": "code",
   "execution_count": 22,
   "id": "32c082e7",
   "metadata": {},
   "outputs": [],
   "source": [
    "# reshape into X=t,t+1,t+2,t+3 and Y=t+4\n",
    "time_step = 4\n",
    "X_train, y_train = create_dataset(train_data, time_step)\n",
    "X_test, ytest = create_dataset(test_data, time_step)"
   ]
  },
  {
   "cell_type": "code",
   "execution_count": 23,
   "id": "13d21d2c",
   "metadata": {},
   "outputs": [
    {
     "data": {
      "text/plain": [
       "((57, 4), (57,))"
      ]
     },
     "execution_count": 23,
     "metadata": {},
     "output_type": "execute_result"
    }
   ],
   "source": [
    "X_train.shape, y_train.shape"
   ]
  },
  {
   "cell_type": "code",
   "execution_count": 24,
   "id": "c69ad464",
   "metadata": {},
   "outputs": [],
   "source": [
    "# reshape input to be [samples, time steps, features] which is required for LSTM\n",
    "X_train =X_train.reshape(X_train.shape[0], 4, 1)\n",
    "X_test = X_test.reshape(X_test.shape[0], 4, 1)\n"
   ]
  },
  {
   "cell_type": "code",
   "execution_count": 25,
   "id": "f5d8d497",
   "metadata": {},
   "outputs": [
    {
     "data": {
      "text/plain": [
       "(57, 4, 1)"
      ]
     },
     "execution_count": 25,
     "metadata": {},
     "output_type": "execute_result"
    }
   ],
   "source": [
    "X_train.shape"
   ]
  },
  {
   "cell_type": "code",
   "execution_count": 26,
   "id": "a3ba5509",
   "metadata": {},
   "outputs": [],
   "source": [
    "#Create the LSTM model\n",
    "from tensorflow.keras.models import Sequential\n",
    "from tensorflow.keras.layers import Dense\n",
    "from tensorflow.keras.layers import LSTM"
   ]
  },
  {
   "cell_type": "code",
   "execution_count": 27,
   "id": "479f7292",
   "metadata": {},
   "outputs": [
    {
     "name": "stdout",
     "output_type": "stream",
     "text": [
      "Epoch 1/100\n",
      "57/57 [==============================] - 3s 17ms/step - loss: 0.0238 - val_loss: 0.0846\n",
      "Epoch 2/100\n",
      "57/57 [==============================] - 0s 5ms/step - loss: 0.0096 - val_loss: 0.0414\n",
      "Epoch 3/100\n",
      "57/57 [==============================] - 0s 5ms/step - loss: 0.0102 - val_loss: 0.0458\n",
      "Epoch 4/100\n",
      "57/57 [==============================] - 0s 5ms/step - loss: 0.0081 - val_loss: 0.0298\n",
      "Epoch 5/100\n",
      "57/57 [==============================] - 0s 5ms/step - loss: 0.0117 - val_loss: 0.0278\n",
      "Epoch 6/100\n",
      "57/57 [==============================] - 0s 5ms/step - loss: 0.0083 - val_loss: 0.0429\n",
      "Epoch 7/100\n",
      "57/57 [==============================] - 0s 5ms/step - loss: 0.0084 - val_loss: 0.0377\n",
      "Epoch 8/100\n",
      "57/57 [==============================] - 0s 5ms/step - loss: 0.0078 - val_loss: 0.0320\n",
      "Epoch 9/100\n",
      "57/57 [==============================] - 0s 5ms/step - loss: 0.0074 - val_loss: 0.0288\n",
      "Epoch 10/100\n",
      "57/57 [==============================] - 0s 5ms/step - loss: 0.0080 - val_loss: 0.0295\n",
      "Epoch 11/100\n",
      "57/57 [==============================] - 0s 5ms/step - loss: 0.0071 - val_loss: 0.0332\n",
      "Epoch 12/100\n",
      "57/57 [==============================] - 0s 5ms/step - loss: 0.0066 - val_loss: 0.0485\n",
      "Epoch 13/100\n",
      "57/57 [==============================] - 0s 5ms/step - loss: 0.0073 - val_loss: 0.0322\n",
      "Epoch 14/100\n",
      "57/57 [==============================] - 0s 5ms/step - loss: 0.0071 - val_loss: 0.0400\n",
      "Epoch 15/100\n",
      "57/57 [==============================] - 0s 5ms/step - loss: 0.0065 - val_loss: 0.0462\n",
      "Epoch 16/100\n",
      "57/57 [==============================] - 0s 5ms/step - loss: 0.0063 - val_loss: 0.0217\n",
      "Epoch 17/100\n",
      "57/57 [==============================] - 0s 5ms/step - loss: 0.0058 - val_loss: 0.0403\n",
      "Epoch 18/100\n",
      "57/57 [==============================] - 0s 4ms/step - loss: 0.0052 - val_loss: 0.0198\n",
      "Epoch 19/100\n",
      "57/57 [==============================] - 0s 5ms/step - loss: 0.0058 - val_loss: 0.0194\n",
      "Epoch 20/100\n",
      "57/57 [==============================] - 0s 5ms/step - loss: 0.0054 - val_loss: 0.0260\n",
      "Epoch 21/100\n",
      "57/57 [==============================] - 0s 5ms/step - loss: 0.0054 - val_loss: 0.0269\n",
      "Epoch 22/100\n",
      "57/57 [==============================] - 0s 5ms/step - loss: 0.0053 - val_loss: 0.0139\n",
      "Epoch 23/100\n",
      "57/57 [==============================] - 0s 5ms/step - loss: 0.0048 - val_loss: 0.0153\n",
      "Epoch 24/100\n",
      "57/57 [==============================] - 0s 5ms/step - loss: 0.0043 - val_loss: 0.0293\n",
      "Epoch 25/100\n",
      "57/57 [==============================] - 0s 5ms/step - loss: 0.0045 - val_loss: 0.0165\n",
      "Epoch 26/100\n",
      "57/57 [==============================] - 0s 5ms/step - loss: 0.0040 - val_loss: 0.0124\n",
      "Epoch 27/100\n",
      "57/57 [==============================] - 0s 5ms/step - loss: 0.0042 - val_loss: 0.0101\n",
      "Epoch 28/100\n",
      "57/57 [==============================] - 0s 5ms/step - loss: 0.0035 - val_loss: 0.0126\n",
      "Epoch 29/100\n",
      "57/57 [==============================] - 0s 5ms/step - loss: 0.0034 - val_loss: 0.0077\n",
      "Epoch 30/100\n",
      "57/57 [==============================] - 0s 5ms/step - loss: 0.0035 - val_loss: 0.0251\n",
      "Epoch 31/100\n",
      "57/57 [==============================] - 0s 5ms/step - loss: 0.0035 - val_loss: 0.0209\n",
      "Epoch 32/100\n",
      "57/57 [==============================] - 0s 5ms/step - loss: 0.0036 - val_loss: 0.0106\n",
      "Epoch 33/100\n",
      "57/57 [==============================] - 0s 5ms/step - loss: 0.0032 - val_loss: 0.0070\n",
      "Epoch 34/100\n",
      "57/57 [==============================] - 0s 5ms/step - loss: 0.0034 - val_loss: 0.0103\n",
      "Epoch 35/100\n",
      "57/57 [==============================] - 0s 5ms/step - loss: 0.0035 - val_loss: 0.0169\n",
      "Epoch 36/100\n",
      "57/57 [==============================] - 0s 5ms/step - loss: 0.0031 - val_loss: 0.0212\n",
      "Epoch 37/100\n",
      "57/57 [==============================] - 0s 5ms/step - loss: 0.0032 - val_loss: 0.0115\n",
      "Epoch 38/100\n",
      "57/57 [==============================] - 0s 5ms/step - loss: 0.0030 - val_loss: 0.0099\n",
      "Epoch 39/100\n",
      "57/57 [==============================] - 0s 5ms/step - loss: 0.0033 - val_loss: 0.0143\n",
      "Epoch 40/100\n",
      "57/57 [==============================] - 0s 5ms/step - loss: 0.0031 - val_loss: 0.0124\n",
      "Epoch 41/100\n",
      "57/57 [==============================] - 0s 5ms/step - loss: 0.0032 - val_loss: 0.0147\n",
      "Epoch 42/100\n",
      "57/57 [==============================] - 0s 5ms/step - loss: 0.0032 - val_loss: 0.0151\n",
      "Epoch 43/100\n",
      "57/57 [==============================] - 0s 5ms/step - loss: 0.0030 - val_loss: 0.0152\n",
      "Epoch 44/100\n",
      "57/57 [==============================] - 0s 5ms/step - loss: 0.0035 - val_loss: 0.0167\n",
      "Epoch 45/100\n",
      "57/57 [==============================] - 0s 5ms/step - loss: 0.0037 - val_loss: 0.0121\n",
      "Epoch 46/100\n",
      "57/57 [==============================] - 0s 5ms/step - loss: 0.0031 - val_loss: 0.0084\n",
      "Epoch 47/100\n",
      "57/57 [==============================] - 0s 5ms/step - loss: 0.0032 - val_loss: 0.0141\n",
      "Epoch 48/100\n",
      "57/57 [==============================] - 0s 5ms/step - loss: 0.0034 - val_loss: 0.0093\n",
      "Epoch 49/100\n",
      "57/57 [==============================] - 0s 5ms/step - loss: 0.0031 - val_loss: 0.0194\n",
      "Epoch 50/100\n",
      "57/57 [==============================] - 0s 5ms/step - loss: 0.0034 - val_loss: 0.0073\n",
      "Epoch 51/100\n",
      "57/57 [==============================] - 0s 5ms/step - loss: 0.0029 - val_loss: 0.0121\n",
      "Epoch 52/100\n",
      "57/57 [==============================] - 0s 5ms/step - loss: 0.0031 - val_loss: 0.0104\n",
      "Epoch 53/100\n",
      "57/57 [==============================] - 0s 5ms/step - loss: 0.0029 - val_loss: 0.0098\n",
      "Epoch 54/100\n",
      "57/57 [==============================] - 0s 5ms/step - loss: 0.0029 - val_loss: 0.0079\n",
      "Epoch 55/100\n",
      "57/57 [==============================] - 0s 5ms/step - loss: 0.0030 - val_loss: 0.0147\n",
      "Epoch 56/100\n",
      "57/57 [==============================] - 0s 5ms/step - loss: 0.0030 - val_loss: 0.0074\n",
      "Epoch 57/100\n",
      "57/57 [==============================] - 0s 5ms/step - loss: 0.0034 - val_loss: 0.0073\n",
      "Epoch 58/100\n",
      "57/57 [==============================] - 0s 5ms/step - loss: 0.0028 - val_loss: 0.0186\n",
      "Epoch 59/100\n",
      "57/57 [==============================] - 0s 5ms/step - loss: 0.0035 - val_loss: 0.0132\n",
      "Epoch 60/100\n",
      "57/57 [==============================] - 0s 5ms/step - loss: 0.0032 - val_loss: 0.0138\n",
      "Epoch 61/100\n",
      "57/57 [==============================] - 0s 5ms/step - loss: 0.0032 - val_loss: 0.0070\n",
      "Epoch 62/100\n",
      "57/57 [==============================] - 0s 5ms/step - loss: 0.0032 - val_loss: 0.008403\n",
      "Epoch 63/100\n",
      "57/57 [==============================] - 0s 5ms/step - loss: 0.0031 - val_loss: 0.0108\n",
      "Epoch 64/100\n",
      "57/57 [==============================] - 0s 5ms/step - loss: 0.0029 - val_loss: 0.0079\n",
      "Epoch 65/100\n",
      "57/57 [==============================] - 0s 5ms/step - loss: 0.0033 - val_loss: 0.0078\n",
      "Epoch 66/100\n",
      "57/57 [==============================] - 0s 5ms/step - loss: 0.0031 - val_loss: 0.0105\n",
      "Epoch 67/100\n",
      "57/57 [==============================] - 0s 5ms/step - loss: 0.0030 - val_loss: 0.0147\n",
      "Epoch 68/100\n",
      "57/57 [==============================] - 0s 5ms/step - loss: 0.0031 - val_loss: 0.0122\n",
      "Epoch 69/100\n",
      "57/57 [==============================] - 0s 5ms/step - loss: 0.0029 - val_loss: 0.0118\n",
      "Epoch 70/100\n",
      "57/57 [==============================] - 0s 5ms/step - loss: 0.0034 - val_loss: 0.0211\n",
      "Epoch 71/100\n",
      "57/57 [==============================] - 0s 5ms/step - loss: 0.0034 - val_loss: 0.0111\n",
      "Epoch 72/100\n",
      "57/57 [==============================] - 0s 5ms/step - loss: 0.0035 - val_loss: 0.0102\n",
      "Epoch 73/100\n",
      "57/57 [==============================] - 0s 5ms/step - loss: 0.0034 - val_loss: 0.0094\n",
      "Epoch 74/100\n",
      "57/57 [==============================] - 0s 5ms/step - loss: 0.0030 - val_loss: 0.0100\n",
      "Epoch 75/100\n",
      "57/57 [==============================] - 0s 5ms/step - loss: 0.0029 - val_loss: 0.0089\n",
      "Epoch 76/100\n",
      "57/57 [==============================] - 0s 5ms/step - loss: 0.0030 - val_loss: 0.0083\n",
      "Epoch 77/100\n",
      "57/57 [==============================] - 0s 5ms/step - loss: 0.0030 - val_loss: 0.0099\n",
      "Epoch 78/100\n",
      "57/57 [==============================] - 0s 5ms/step - loss: 0.0027 - val_loss: 0.0161\n",
      "Epoch 79/100\n",
      "57/57 [==============================] - 0s 5ms/step - loss: 0.0034 - val_loss: 0.0090\n",
      "Epoch 80/100\n",
      "57/57 [==============================] - 0s 5ms/step - loss: 0.0034 - val_loss: 0.0178\n",
      "Epoch 81/100\n",
      "57/57 [==============================] - 0s 5ms/step - loss: 0.0031 - val_loss: 0.0122\n",
      "Epoch 82/100\n",
      "57/57 [==============================] - 0s 5ms/step - loss: 0.0032 - val_loss: 0.0072\n"
     ]
    },
    {
     "name": "stdout",
     "output_type": "stream",
     "text": [
      "Epoch 83/100\n",
      "57/57 [==============================] - 0s 4ms/step - loss: 0.0032 - val_loss: 0.0159\n",
      "Epoch 84/100\n",
      "57/57 [==============================] - 0s 5ms/step - loss: 0.0030 - val_loss: 0.0095\n",
      "Epoch 85/100\n",
      "57/57 [==============================] - 0s 4ms/step - loss: 0.0028 - val_loss: 0.0181\n",
      "Epoch 86/100\n",
      "57/57 [==============================] - 0s 5ms/step - loss: 0.0037 - val_loss: 0.0152\n",
      "Epoch 87/100\n",
      "57/57 [==============================] - 0s 5ms/step - loss: 0.0030 - val_loss: 0.0110\n",
      "Epoch 88/100\n",
      "57/57 [==============================] - 0s 4ms/step - loss: 0.0030 - val_loss: 0.0139\n",
      "Epoch 89/100\n",
      "57/57 [==============================] - 0s 5ms/step - loss: 0.0029 - val_loss: 0.0100\n",
      "Epoch 90/100\n",
      "57/57 [==============================] - 0s 5ms/step - loss: 0.0036 - val_loss: 0.0158\n",
      "Epoch 91/100\n",
      "57/57 [==============================] - 0s 5ms/step - loss: 0.0033 - val_loss: 0.0142\n",
      "Epoch 92/100\n",
      "57/57 [==============================] - 0s 5ms/step - loss: 0.0030 - val_loss: 0.0144\n",
      "Epoch 93/100\n",
      "57/57 [==============================] - 0s 5ms/step - loss: 0.0033 - val_loss: 0.0153\n",
      "Epoch 94/100\n",
      "57/57 [==============================] - 0s 5ms/step - loss: 0.0033 - val_loss: 0.0085\n",
      "Epoch 95/100\n",
      "57/57 [==============================] - 0s 4ms/step - loss: 0.0030 - val_loss: 0.0096\n",
      "Epoch 96/100\n",
      "57/57 [==============================] - 0s 5ms/step - loss: 0.0028 - val_loss: 0.0129\n",
      "Epoch 97/100\n",
      "57/57 [==============================] - 0s 5ms/step - loss: 0.0027 - val_loss: 0.0081\n",
      "Epoch 98/100\n",
      "57/57 [==============================] - 0s 5ms/step - loss: 0.0031 - val_loss: 0.0094\n",
      "Epoch 99/100\n",
      "57/57 [==============================] - 0s 5ms/step - loss: 0.0030 - val_loss: 0.0126\n",
      "Epoch 100/100\n",
      "57/57 [==============================] - 0s 5ms/step - loss: 0.0027 - val_loss: 0.0105\n"
     ]
    },
    {
     "data": {
      "text/plain": [
       "<keras.callbacks.History at 0x21aeb757a90>"
      ]
     },
     "execution_count": 27,
     "metadata": {},
     "output_type": "execute_result"
    }
   ],
   "source": [
    "model=Sequential()\n",
    "model.add(LSTM(50,return_sequences=True,input_shape=(4,1)))\n",
    "model.add(LSTM(50))\n",
    "model.add(Dense(1))\n",
    "model.compile(loss='mean_squared_error',optimizer='adam')\n",
    "model.fit(X_train,y_train,validation_data=(X_test,ytest),epochs=100,batch_size=1,verbose=1)"
   ]
  },
  {
   "cell_type": "code",
   "execution_count": 28,
   "id": "fd44e42d",
   "metadata": {},
   "outputs": [],
   "source": [
    "train_predict=model.predict(X_train)\n",
    "test_predict=model.predict(X_test)"
   ]
  },
  {
   "cell_type": "code",
   "execution_count": 29,
   "id": "a90408d8",
   "metadata": {},
   "outputs": [
    {
     "data": {
      "text/plain": [
       "array([[0.5508507 ],\n",
       "       [0.65188384],\n",
       "       [0.51668787],\n",
       "       [0.39641312],\n",
       "       [0.3878173 ],\n",
       "       [0.34578988],\n",
       "       [0.47056141],\n",
       "       [0.4730658 ],\n",
       "       [0.38480446],\n",
       "       [0.5527123 ],\n",
       "       [0.5158105 ],\n",
       "       [0.48883578],\n",
       "       [0.7057433 ],\n",
       "       [0.8308234 ],\n",
       "       [0.58739066],\n",
       "       [0.4951311 ],\n",
       "       [0.49278054],\n",
       "       [0.42731863],\n",
       "       [0.6477238 ],\n",
       "       [0.5873916 ],\n",
       "       [0.4829982 ],\n",
       "       [0.6995636 ],\n",
       "       [0.60758495],\n",
       "       [0.5995853 ],\n",
       "       [0.8778837 ],\n",
       "       [0.90519154],\n",
       "       [0.70506823],\n",
       "       [0.55069494],\n",
       "       [0.5403445 ]], dtype=float32)"
      ]
     },
     "execution_count": 29,
     "metadata": {},
     "output_type": "execute_result"
    }
   ],
   "source": [
    "test_predict"
   ]
  },
  {
   "cell_type": "code",
   "execution_count": 30,
   "id": "8a6d6a8a",
   "metadata": {},
   "outputs": [],
   "source": [
    "#Transformback to original form\n",
    "train_predict=scaler.inverse_transform(train_predict)\n",
    "test_predict=scaler.inverse_transform(test_predict)"
   ]
  },
  {
   "cell_type": "code",
   "execution_count": 31,
   "id": "45c4764c",
   "metadata": {},
   "outputs": [
    {
     "data": {
      "text/plain": [
       "array([[274.21286],\n",
       "       [305.43213],\n",
       "       [263.65656],\n",
       "       [226.49165],\n",
       "       [223.83554],\n",
       "       [210.84908],\n",
       "       [249.40347],\n",
       "       [250.17734],\n",
       "       [222.90457],\n",
       "       [274.78812],\n",
       "       [263.38544],\n",
       "       [255.05026],\n",
       "       [322.07468],\n",
       "       [360.72443],\n",
       "       [285.50372],\n",
       "       [256.9955 ],\n",
       "       [256.2692 ],\n",
       "       [236.04147],\n",
       "       [304.14667],\n",
       "       [285.50403],\n",
       "       [253.24644],\n",
       "       [320.16516],\n",
       "       [291.74377],\n",
       "       [289.27185],\n",
       "       [375.26605],\n",
       "       [383.70416],\n",
       "       [321.86606],\n",
       "       [274.16473],\n",
       "       [270.96646]], dtype=float32)"
      ]
     },
     "execution_count": 31,
     "metadata": {},
     "output_type": "execute_result"
    }
   ],
   "source": [
    "test_predict"
   ]
  },
  {
   "cell_type": "code",
   "execution_count": 32,
   "id": "dd071db5",
   "metadata": {},
   "outputs": [
    {
     "data": {
      "text/plain": [
       "((57,),\n",
       " (57, 1),\n",
       " array([[132.854   ],\n",
       "        [126.91691 ],\n",
       "        [144.14684 ],\n",
       "        [154.48997 ],\n",
       "        [151.82686 ],\n",
       "        [140.88318 ],\n",
       "        [127.40699 ],\n",
       "        [114.9837  ],\n",
       "        [128.58884 ],\n",
       "        [120.101074],\n",
       "        [131.9502  ],\n",
       "        [146.87628 ],\n",
       "        [138.24133 ],\n",
       "        [131.21808 ],\n",
       "        [159.83966 ],\n",
       "        [177.0655  ],\n",
       "        [171.41833 ],\n",
       "        [160.62456 ],\n",
       "        [139.5326  ],\n",
       "        [126.284   ],\n",
       "        [153.92532 ],\n",
       "        [150.23215 ],\n",
       "        [154.41766 ],\n",
       "        [187.40118 ],\n",
       "        [162.8638  ],\n",
       "        [179.2301  ],\n",
       "        [186.712   ],\n",
       "        [207.35954 ],\n",
       "        [200.69495 ],\n",
       "        [182.62498 ],\n",
       "        [166.69061 ],\n",
       "        [156.9854  ],\n",
       "        [181.28229 ],\n",
       "        [178.02928 ],\n",
       "        [185.14076 ],\n",
       "        [199.96089 ],\n",
       "        [181.23233 ],\n",
       "        [189.43993 ],\n",
       "        [233.0489  ],\n",
       "        [232.4134  ],\n",
       "        [238.66022 ],\n",
       "        [195.4195  ],\n",
       "        [193.26637 ],\n",
       "        [183.06424 ],\n",
       "        [210.33366 ],\n",
       "        [202.33945 ],\n",
       "        [197.62279 ],\n",
       "        [249.97672 ],\n",
       "        [231.45818 ],\n",
       "        [219.825   ],\n",
       "        [248.80644 ],\n",
       "        [269.33755 ],\n",
       "        [264.05167 ],\n",
       "        [213.27393 ],\n",
       "        [207.25964 ],\n",
       "        [188.73224 ],\n",
       "        [220.63306 ]], dtype=float32))"
      ]
     },
     "execution_count": 32,
     "metadata": {},
     "output_type": "execute_result"
    }
   ],
   "source": [
    "y_train.shape,train_predict.shape,train_predict"
   ]
  },
  {
   "cell_type": "code",
   "execution_count": 33,
   "id": "5ddb58be",
   "metadata": {},
   "outputs": [
    {
     "data": {
      "text/plain": [
       "183.26844008393954"
      ]
     },
     "execution_count": 33,
     "metadata": {},
     "output_type": "execute_result"
    }
   ],
   "source": [
    "# Calculate RMSE performance metrics\n",
    "import math\n",
    "from sklearn.metrics import mean_squared_error\n",
    "math.sqrt(mean_squared_error(y_train,train_predict))"
   ]
  },
  {
   "cell_type": "code",
   "execution_count": 34,
   "id": "5905a270",
   "metadata": {},
   "outputs": [
    {
     "data": {
      "text/plain": [
       "282.25618140704705"
      ]
     },
     "execution_count": 34,
     "metadata": {},
     "output_type": "execute_result"
    }
   ],
   "source": [
    "# Test Data RMSE\n",
    "math.sqrt(mean_squared_error(ytest,test_predict))"
   ]
  },
  {
   "cell_type": "code",
   "execution_count": 35,
   "id": "c4341a36",
   "metadata": {},
   "outputs": [
    {
     "data": {
      "image/png": "[encoded data removed]",
      "text/plain": [
       "<Figure size 432x288 with 1 Axes>"
      ]
     },
     "metadata": {
      "needs_background": "light"
     },
     "output_type": "display_data"
    }
   ],
   "source": [
    "# Plotting \n",
    "# shift train predictions for plotting\n",
    "look_back=4\n",
    "trainPredictPlot = np.empty_like(df)\n",
    "trainPredictPlot[:, :] = np.nan\n",
    "trainPredictPlot[look_back:len(train_predict)+look_back, :] = train_predict\n",
    "# shift test predictions for plotting\n",
    "testPredictPlot = np.empty_like(df)\n",
    "testPredictPlot[:, :] = np.nan\n",
    "testPredictPlot[len(train_predict)+(look_back*2)+1:len(df)-1, :] = test_predict\n",
    "# plot baseline and predictions\n",
    "plt.plot(scaler.inverse_transform(df))\n",
    "plt.plot(trainPredictPlot)\n",
    "plt.plot(testPredictPlot)\n",
    "plt.show()"
   ]
  },
  {
   "cell_type": "code",
   "execution_count": null,
   "id": "7ac6721e",
   "metadata": {},
   "outputs": [],
   "source": []
  },
  {
   "cell_type": "code",
   "execution_count": null,
   "id": "08d0d543",
   "metadata": {},
   "outputs": [],
   "source": []
  }
 ],
 "metadata": {
  "kernelspec": {
   "display_name": "Python 3",
   "language": "python",
   "name": "python3"
  },
  "language_info": {
   "codemirror_mode": {
    "name": "ipython",
    "version": 3
   },
   "file_extension": ".py",
   "mimetype": "text/x-python",
   "name": "python",
   "nbconvert_exporter": "python",
   "pygments_lexer": "ipython3",
   "version": "3.8.8"
  }
 },
 "nbformat": 4,
 "nbformat_minor": 5
}
